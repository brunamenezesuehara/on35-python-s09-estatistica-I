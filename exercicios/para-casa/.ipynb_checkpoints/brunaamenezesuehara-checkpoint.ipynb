{
 "cells": [
  {
   "cell_type": "code",
   "execution_count": null,
   "metadata": {},
   "outputs": [],
   "source": [
    "df = pd.read_csv('vendas_ficticias.csv')\n",
    "print(df.head())\n",
    "print(df.info())\n",
    "\n",
    "media_valor_venda = df['Valor da venda'].mean()\n",
    "media_qtd_vendida = df['Quantidade vendida'].mean()\n",
    "\n",
    "mediana_valor_venda = df['Valor da venda'].median()\n",
    "mediana_qtd_vendida = df['Quantidade vendida'].median()\n",
    "\n",
    "min_valor_venda = df['Valor da venda'].min()\n",
    "min_qtd_vendida = df['Quantidade vendida'].min()\n",
    "\n",
    "max_valor_venda = df['Valor da venda'].max()\n",
    "max_qtd_vendida = df['Quantidade vendida'].max()\n",
    "\n",
    "desvio_padrao_valor_venda = df['Valor da venda'].std()\n",
    "desvio_padrao_qtd_vendida = df['Quantidade vendida'].std()\n",
    "\n",
    "print(f\"Média dos valores de venda: {media_valor_venda}\")\n",
    "print(f\"Mediana dos valores de venda: {mediana_valor_venda}\")\n",
    "print(f\"Valor mínimo de venda: {min_valor_venda}\")\n",
    "print(f\"Valor máximo de venda: {max_valor_venda}\")\n",
    "print(f\"Desvio padrão dos valores de venda: {desvio_padrao_valor_venda}\\n\")\n",
    "\n",
    "print(f\"Média da quantidade vendida: {media_qtd_vendida}\")\n",
    "print(f\"Mediana da quantidade vendida: {mediana_qtd_vendida}\")\n",
    "print(f\"Quantidade mínima vendida: {min_qtd_vendida}\")\n",
    "print(f\"Quantidade máxima vendida: {max_qtd_vendida}\")\n",
    "print(f\"Desvio padrão da quantidade vendida: {desvio_padrao_qtd_vendida}\")\n",
    "\n",
    "produto_mais_vendido = df['Produto'].mode()[0]\n",
    "print(f\"O produto que mais vendeu foi: {produto_mais_vendido}\")\n"
   ]
  },
  {
   "cell_type": "markdown",
   "metadata": {},
   "source": []
  }
 ],
 "metadata": {
  "language_info": {
   "name": "python"
  }
 },
 "nbformat": 4,
 "nbformat_minor": 2
}
